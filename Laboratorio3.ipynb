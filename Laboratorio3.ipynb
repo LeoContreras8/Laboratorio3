{
 "cells": [
  {
   "attachments": {},
   "cell_type": "markdown",
   "metadata": {},
   "source": [
    "###### Maestría Inteligencia de Negocios y Análisis de Datos\n",
    "###### Curso: Ciencia de Datos en Python\n",
    "###### Alumno: 22008375- Leonel Eduardo Contreras\n",
    "###### Sección L"
   ]
  },
  {
   "attachments": {},
   "cell_type": "markdown",
   "metadata": {},
   "source": [
    "## **Laboratorio # 3 - Análisis de Datos con Python**"
   ]
  },
  {
   "cell_type": "code",
   "execution_count": 2,
   "metadata": {},
   "outputs": [],
   "source": [
    "import numpy as np\n",
    "import pandas as pd\n",
    "import matplotlib.pyplot as plt"
   ]
  },
  {
   "attachments": {},
   "cell_type": "markdown",
   "metadata": {},
   "source": [
    "### *Parte 1*"
   ]
  },
  {
   "attachments": {},
   "cell_type": "markdown",
   "metadata": {},
   "source": [
    "#### 1) ¿Cuál es el tamaño en bytes de un array de 1000 elementos de tipo booleano?"
   ]
  },
  {
   "cell_type": "code",
   "execution_count": 10,
   "metadata": {},
   "outputs": [
    {
     "name": "stdout",
     "output_type": "stream",
     "text": [
      "El tamaño en bytes del array con elementos tipo boolenao es de: 5\n"
     ]
    }
   ],
   "source": [
    "##Se crea un array tipo booleano\n",
    "booleano= np.array([True,False,False,True,True])\n",
    "##Se imprime el tamaño del array\n",
    "print(\"El tamaño en bytes del array con elementos tipo boolenao es de:\",booleano.size)\n"
   ]
  },
  {
   "attachments": {},
   "cell_type": "markdown",
   "metadata": {},
   "source": [
    "##### **Respuesta:** Se creó un array de 5 elementos tipo booleano y se saco el tamaño en bytes y dió que es 5, entonces para un arreglo de 1000 elementos el tamaño sera de 1000 bytes"
   ]
  },
  {
   "attachments": {},
   "cell_type": "markdown",
   "metadata": {},
   "source": [
    "#### 2) Cree un array cuyos elementos sean los enteros pares en [1,100] y en orden decreciente. Muestre los 10 últimos por pantalla."
   ]
  },
  {
   "cell_type": "code",
   "execution_count": 31,
   "metadata": {},
   "outputs": [
    {
     "data": {
      "text/plain": [
       "array([20, 18, 16, 14, 12, 10,  8,  6,  4,  2])"
      ]
     },
     "execution_count": 31,
     "metadata": {},
     "output_type": "execute_result"
    }
   ],
   "source": [
    "##Se crea un arreglo con los pares de 1 a 100\n",
    "pares=np.arange(2,101,2)\n",
    "##Se invierte el arreglo para que sea en orden decreciente\n",
    "invert_pares=pares[::-1]\n",
    "##Se extraen los ultimos 10 elementos\n",
    "invert_pares[-10:]"
   ]
  },
  {
   "attachments": {},
   "cell_type": "markdown",
   "metadata": {},
   "source": [
    "#### 3) Crear array y obtener subarray"
   ]
  },
  {
   "cell_type": "code",
   "execution_count": 3,
   "metadata": {},
   "outputs": [
    {
     "name": "stdout",
     "output_type": "stream",
     "text": [
      "El subarray 1 solicitado es: [0 3 7 4]\n",
      "El subarray 2 solicitado es: [[2 5]\n",
      " [8 5]]\n"
     ]
    }
   ],
   "source": [
    "##Se crea el array dado en el ejercicio\n",
    "ejercicio3= np.array([[2,4,5,6],\n",
    "                    [0,3,7,4],\n",
    "                    [8,8,5,2],\n",
    "                    [1,5,6,1]])\n",
    "\n",
    "## Se selecciona del array un subarray con los elementos 0,3,7,4\n",
    "subarray1=ejercicio3[1]\n",
    "print(\"El subarray 1 solicitado es:\",subarray1)\n",
    "\n",
    "## Se selecciona del array un subarray con los elementos 2,5 y 8,5\n",
    "subarray2=np.array([ejercicio3[0,0::2],ejercicio3[2,1:3]])\n",
    "print(\"El subarray 2 solicitado es:\",subarray2)\n",
    "\n",
    "\n"
   ]
  },
  {
   "attachments": {},
   "cell_type": "markdown",
   "metadata": {},
   "source": [
    "#### 4) Dados los arrays a = [1, 4, 2, 7] y b = [1, 3, 2, 9], obtenga la media aritmética de la diferencia (a-b)."
   ]
  },
  {
   "cell_type": "code",
   "execution_count": 78,
   "metadata": {},
   "outputs": [
    {
     "name": "stdout",
     "output_type": "stream",
     "text": [
      "La media aritmetica de a-b es:  -0.25\n"
     ]
    }
   ],
   "source": [
    "##Se definen los arrays\n",
    "a=np.array([1,4,2,7])\n",
    "b=np.array([1,3,2,9])\n",
    "\n",
    "##Se realiza la operacion\n",
    "\n",
    "print(\"La media aritmetica de a-b es: \", np.mean(a - b))\n",
    "\n",
    "\n",
    "\n"
   ]
  },
  {
   "attachments": {},
   "cell_type": "markdown",
   "metadata": {},
   "source": [
    "#### 5) Agregue al array las coordenadas (37.1, -3.6). Muestre en pantalla las dimensiones del nuevo array"
   ]
  },
  {
   "cell_type": "code",
   "execution_count": 91,
   "metadata": {},
   "outputs": [
    {
     "name": "stdout",
     "output_type": "stream",
     "text": [
      "El nuevo array es:\n",
      "[[ 1.33  4.5 ]\n",
      " [30.   10.7 ]\n",
      " [70.2   0.5 ]\n",
      " [37.1  -3.6 ]]\n",
      "La dimension es: (4, 2)\n"
     ]
    }
   ],
   "source": [
    "##Se crea el array\n",
    "array1=np.array([[1.33,4.5],\n",
    "                 [30.0,10.7],\n",
    "                 [70.2,0.5]\n",
    "                 ])\n",
    "##Se agrega las nuevas coordenadas al array original\n",
    "array2=np.append(array1,[[37.1,-3.6]],axis=0)\n",
    "\n",
    "## Se imprime el resultado\n",
    "print(\"El nuevo array es:\")\n",
    "print(array2)\n",
    "print(f\"La dimension es: {array2.shape}\")\n"
   ]
  },
  {
   "attachments": {},
   "cell_type": "markdown",
   "metadata": {},
   "source": [
    "#### 6) Copie el array del ejercicio anterior. Traspóngalo .Agregue ahora dos nuevos pares de coordenadas: (10.8,3.0) y (35.8, 12.0)."
   ]
  },
  {
   "cell_type": "code",
   "execution_count": 103,
   "metadata": {},
   "outputs": [
    {
     "name": "stdout",
     "output_type": "stream",
     "text": [
      "Array original:\n",
      "[[ 1.33  4.5 ]\n",
      " [30.   10.7 ]\n",
      " [70.2   0.5 ]]\n",
      "Dimension del Array original: (3, 2)\n",
      "---\n",
      "Array nuevo:\n",
      "[[ 1.33  4.5 ]\n",
      " [30.   10.7 ]\n",
      " [70.2   0.5 ]\n",
      " [10.8   3.  ]\n",
      " [35.8  12.  ]]\n",
      "Dimension del Array nuevo: (5, 2)\n",
      "---\n",
      "Array transpuesto:\n",
      "[[ 1.33 30.   70.2  10.8  35.8 ]\n",
      " [ 4.5  10.7   0.5   3.   12.  ]]\n",
      "Dimension del Array transpuesto: (2, 5)\n"
     ]
    }
   ],
   "source": [
    "##Se crea el array\n",
    "array_original=np.array([[1.33,4.5],\n",
    "                 [30.0,10.7],\n",
    "                 [70.2,0.5]\n",
    "                 ])\n",
    "##Se agegan nuevas coordenadas\n",
    "array_nuevo=np.append(array_original,[[10.8,3.0],[35.8,12.0]],axis=0)\n",
    "\n",
    "##Se transpone el array nuevo\n",
    "array_transpuesto=np.transpose(array_nuevo)\n",
    "\n",
    "##Se imprien los resultados\n",
    "print(\"Array original:\")\n",
    "print(array_original)\n",
    "print(\"Dimension del Array original:\",array_original.shape)\n",
    "print(\"---\")\n",
    "print(\"Array nuevo:\")\n",
    "print(array_nuevo)\n",
    "print(\"Dimension del Array nuevo:\",array_nuevo.shape)\n",
    "print(\"---\")\n",
    "print(\"Array transpuesto:\")\n",
    "print(array_transpuesto)\n",
    "print(\"Dimension del Array transpuesto:\",array_transpuesto.shape)\n",
    "\n"
   ]
  },
  {
   "attachments": {},
   "cell_type": "markdown",
   "metadata": {},
   "source": [
    "### *Parte 2*"
   ]
  },
  {
   "cell_type": "code",
   "execution_count": 67,
   "metadata": {},
   "outputs": [
    {
     "data": {
      "text/html": [
       "<div>\n",
       "<style scoped>\n",
       "    .dataframe tbody tr th:only-of-type {\n",
       "        vertical-align: middle;\n",
       "    }\n",
       "\n",
       "    .dataframe tbody tr th {\n",
       "        vertical-align: top;\n",
       "    }\n",
       "\n",
       "    .dataframe thead th {\n",
       "        text-align: right;\n",
       "    }\n",
       "</style>\n",
       "<table border=\"1\" class=\"dataframe\">\n",
       "  <thead>\n",
       "    <tr style=\"text-align: right;\">\n",
       "      <th></th>\n",
       "      <th>FID</th>\n",
       "      <th>OBJECTID</th>\n",
       "      <th>Texto</th>\n",
       "      <th>Poblacion</th>\n",
       "      <th>CodMun</th>\n",
       "      <th>Municipio</th>\n",
       "      <th>CodProvin</th>\n",
       "      <th>Provincia</th>\n",
       "      <th>X</th>\n",
       "      <th>Y</th>\n",
       "    </tr>\n",
       "  </thead>\n",
       "  <tbody>\n",
       "    <tr>\n",
       "      <th>0</th>\n",
       "      <td>0</td>\n",
       "      <td>1</td>\n",
       "      <td>Agüimes</td>\n",
       "      <td>29431.0</td>\n",
       "      <td>35002</td>\n",
       "      <td>Agüimes</td>\n",
       "      <td>35</td>\n",
       "      <td>Las Palmas</td>\n",
       "      <td>-15.446012</td>\n",
       "      <td>27.900542</td>\n",
       "    </tr>\n",
       "    <tr>\n",
       "      <th>1</th>\n",
       "      <td>1</td>\n",
       "      <td>2</td>\n",
       "      <td>Antigua</td>\n",
       "      <td>10458.0</td>\n",
       "      <td>35003</td>\n",
       "      <td>Antigua</td>\n",
       "      <td>35</td>\n",
       "      <td>Las Palmas</td>\n",
       "      <td>-14.013301</td>\n",
       "      <td>28.418966</td>\n",
       "    </tr>\n",
       "    <tr>\n",
       "      <th>2</th>\n",
       "      <td>2</td>\n",
       "      <td>3</td>\n",
       "      <td>Arrecife</td>\n",
       "      <td>58156.0</td>\n",
       "      <td>35004</td>\n",
       "      <td>Arrecife</td>\n",
       "      <td>35</td>\n",
       "      <td>Las Palmas</td>\n",
       "      <td>-13.551451</td>\n",
       "      <td>28.960649</td>\n",
       "    </tr>\n",
       "    <tr>\n",
       "      <th>3</th>\n",
       "      <td>3</td>\n",
       "      <td>4</td>\n",
       "      <td>Arucas</td>\n",
       "      <td>36745.0</td>\n",
       "      <td>35006</td>\n",
       "      <td>Arucas</td>\n",
       "      <td>35</td>\n",
       "      <td>Las Palmas</td>\n",
       "      <td>-15.521512</td>\n",
       "      <td>28.117496</td>\n",
       "    </tr>\n",
       "    <tr>\n",
       "      <th>4</th>\n",
       "      <td>4</td>\n",
       "      <td>5</td>\n",
       "      <td>Gáldar</td>\n",
       "      <td>24473.0</td>\n",
       "      <td>35009</td>\n",
       "      <td>Gáldar</td>\n",
       "      <td>35</td>\n",
       "      <td>Las Palmas</td>\n",
       "      <td>-15.654111</td>\n",
       "      <td>28.143873</td>\n",
       "    </tr>\n",
       "    <tr>\n",
       "      <th>...</th>\n",
       "      <td>...</td>\n",
       "      <td>...</td>\n",
       "      <td>...</td>\n",
       "      <td>...</td>\n",
       "      <td>...</td>\n",
       "      <td>...</td>\n",
       "      <td>...</td>\n",
       "      <td>...</td>\n",
       "      <td>...</td>\n",
       "      <td>...</td>\n",
       "    </tr>\n",
       "    <tr>\n",
       "      <th>847</th>\n",
       "      <td>847</td>\n",
       "      <td>848</td>\n",
       "      <td>Infante Juan Manuel</td>\n",
       "      <td>14192.0</td>\n",
       "      <td>30030</td>\n",
       "      <td>Murcia</td>\n",
       "      <td>30</td>\n",
       "      <td>Murcia</td>\n",
       "      <td>-1.124304</td>\n",
       "      <td>37.979033</td>\n",
       "    </tr>\n",
       "    <tr>\n",
       "      <th>848</th>\n",
       "      <td>848</td>\n",
       "      <td>849</td>\n",
       "      <td>Santa Maria de Gracia</td>\n",
       "      <td>13349.0</td>\n",
       "      <td>30030</td>\n",
       "      <td>Murcia</td>\n",
       "      <td>30</td>\n",
       "      <td>Murcia</td>\n",
       "      <td>-1.202069</td>\n",
       "      <td>37.984024</td>\n",
       "    </tr>\n",
       "    <tr>\n",
       "      <th>849</th>\n",
       "      <td>849</td>\n",
       "      <td>850</td>\n",
       "      <td>Vista Alegre</td>\n",
       "      <td>15208.0</td>\n",
       "      <td>30030</td>\n",
       "      <td>Murcia</td>\n",
       "      <td>30</td>\n",
       "      <td>Murcia</td>\n",
       "      <td>-1.130564</td>\n",
       "      <td>37.995715</td>\n",
       "    </tr>\n",
       "    <tr>\n",
       "      <th>850</th>\n",
       "      <td>850</td>\n",
       "      <td>851</td>\n",
       "      <td>Poligono Sta M de Benquerencia</td>\n",
       "      <td>19177.0</td>\n",
       "      <td>45168</td>\n",
       "      <td>Toledo</td>\n",
       "      <td>45</td>\n",
       "      <td>Toledo</td>\n",
       "      <td>-3.948364</td>\n",
       "      <td>39.866699</td>\n",
       "    </tr>\n",
       "    <tr>\n",
       "      <th>851</th>\n",
       "      <td>851</td>\n",
       "      <td>852</td>\n",
       "      <td>Grao</td>\n",
       "      <td>16367.0</td>\n",
       "      <td>12040</td>\n",
       "      <td>Castellón de la Plana/Castelló de la Plana</td>\n",
       "      <td>12</td>\n",
       "      <td>Castelló/Castellón</td>\n",
       "      <td>0.012911</td>\n",
       "      <td>39.973568</td>\n",
       "    </tr>\n",
       "  </tbody>\n",
       "</table>\n",
       "<p>852 rows × 10 columns</p>\n",
       "</div>"
      ],
      "text/plain": [
       "     FID  OBJECTID                           Texto  Poblacion  CodMun  \\\n",
       "0      0         1                         Agüimes    29431.0   35002   \n",
       "1      1         2                         Antigua    10458.0   35003   \n",
       "2      2         3                        Arrecife    58156.0   35004   \n",
       "3      3         4                          Arucas    36745.0   35006   \n",
       "4      4         5                          Gáldar    24473.0   35009   \n",
       "..   ...       ...                             ...        ...     ...   \n",
       "847  847       848             Infante Juan Manuel    14192.0   30030   \n",
       "848  848       849           Santa Maria de Gracia    13349.0   30030   \n",
       "849  849       850                    Vista Alegre    15208.0   30030   \n",
       "850  850       851  Poligono Sta M de Benquerencia    19177.0   45168   \n",
       "851  851       852                            Grao    16367.0   12040   \n",
       "\n",
       "                                      Municipio  CodProvin  \\\n",
       "0                                       Agüimes         35   \n",
       "1                                       Antigua         35   \n",
       "2                                      Arrecife         35   \n",
       "3                                        Arucas         35   \n",
       "4                                        Gáldar         35   \n",
       "..                                          ...        ...   \n",
       "847                                      Murcia         30   \n",
       "848                                      Murcia         30   \n",
       "849                                      Murcia         30   \n",
       "850                                      Toledo         45   \n",
       "851  Castellón de la Plana/Castelló de la Plana         12   \n",
       "\n",
       "              Provincia          X          Y  \n",
       "0            Las Palmas -15.446012  27.900542  \n",
       "1            Las Palmas -14.013301  28.418966  \n",
       "2            Las Palmas -13.551451  28.960649  \n",
       "3            Las Palmas -15.521512  28.117496  \n",
       "4            Las Palmas -15.654111  28.143873  \n",
       "..                  ...        ...        ...  \n",
       "847              Murcia  -1.124304  37.979033  \n",
       "848              Murcia  -1.202069  37.984024  \n",
       "849              Murcia  -1.130564  37.995715  \n",
       "850              Toledo  -3.948364  39.866699  \n",
       "851  Castelló/Castellón   0.012911  39.973568  \n",
       "\n",
       "[852 rows x 10 columns]"
      ]
     },
     "execution_count": 67,
     "metadata": {},
     "output_type": "execute_result"
    }
   ],
   "source": [
    "dataset=pd.read_csv('NucleosPoblacion.csv')\n",
    "dataset"
   ]
  },
  {
   "cell_type": "code",
   "execution_count": 5,
   "metadata": {},
   "outputs": [
    {
     "name": "stdout",
     "output_type": "stream",
     "text": [
      "(852, 10)\n",
      "---\n",
      "FID            int64\n",
      "OBJECTID       int64\n",
      "Texto         object\n",
      "Poblacion    float64\n",
      "CodMun         int64\n",
      "Municipio     object\n",
      "CodProvin      int64\n",
      "Provincia     object\n",
      "X            float64\n",
      "Y            float64\n",
      "dtype: object\n",
      "---\n",
      "Index(['FID', 'OBJECTID', 'Texto', 'Poblacion', 'CodMun', 'Municipio',\n",
      "       'CodProvin', 'Provincia', 'X', 'Y'],\n",
      "      dtype='object')\n"
     ]
    }
   ],
   "source": [
    "##Explorar datos\n",
    "print(dataset.shape)\n",
    "print(\"---\")\n",
    "print(dataset.dtypes)\n",
    "print(\"---\")\n",
    "print(dataset.columns)"
   ]
  },
  {
   "attachments": {},
   "cell_type": "markdown",
   "metadata": {},
   "source": [
    "#### 1) ¿Cuántos Municipios tienen más de 100000 habitantes?"
   ]
  },
  {
   "cell_type": "code",
   "execution_count": 35,
   "metadata": {},
   "outputs": [
    {
     "data": {
      "text/plain": [
       "Poblacion    75\n",
       "dtype: int64"
      ]
     },
     "execution_count": 35,
     "metadata": {},
     "output_type": "execute_result"
    }
   ],
   "source": [
    "##Agrupar por Municipio\n",
    "group_municipio=dataset.groupby('Municipio')\n",
    "##Sumar poblacion por municipio\n",
    "sum_poblacion=group_municipio.sum('Poblacion')[['Poblacion']]\n",
    "##Municipios mayores a 100000\n",
    "mayores_municipios=sum_poblacion[sum_poblacion['Poblacion']>100000]\n",
    "##Contar municipios\n",
    "contador=mayores_municipios.count()\n",
    "contador"
   ]
  },
  {
   "attachments": {},
   "cell_type": "markdown",
   "metadata": {},
   "source": [
    "#### 2) Realice una gráfica de barras sobre la poblacion de cada ciudad, ordenela de menor a mayo y responda:"
   ]
  },
  {
   "cell_type": "code",
   "execution_count": 73,
   "metadata": {},
   "outputs": [
    {
     "data": {
      "image/png": "[encoded data removed]",
      "text/plain": [
       "<Figure size 640x480 with 1 Axes>"
      ]
     },
     "metadata": {},
     "output_type": "display_data"
    }
   ],
   "source": [
    "##Agrupar por ciudad\n",
    "group_ciudad=dataset.groupby('Provincia')\n",
    "##Sumar población por ciudad\n",
    "poblacion_ciudad=group_ciudad.sum('Poblacion')[['Poblacion']]\n",
    "##Ordenar\n",
    "orden_ciudad=poblacion_ciudad.sort_values('Poblacion')\n",
    "##Graficar\n",
    "orden_ciudad.plot(kind='bar')\n",
    "plt.show()\n"
   ]
  },
  {
   "attachments": {},
   "cell_type": "markdown",
   "metadata": {},
   "source": [
    "##### a)¿Cuál es la segunda ciudad más poblada?"
   ]
  },
  {
   "cell_type": "code",
   "execution_count": 74,
   "metadata": {},
   "outputs": [
    {
     "data": {
      "text/html": [
       "<div>\n",
       "<style scoped>\n",
       "    .dataframe tbody tr th:only-of-type {\n",
       "        vertical-align: middle;\n",
       "    }\n",
       "\n",
       "    .dataframe tbody tr th {\n",
       "        vertical-align: top;\n",
       "    }\n",
       "\n",
       "    .dataframe thead th {\n",
       "        text-align: right;\n",
       "    }\n",
       "</style>\n",
       "<table border=\"1\" class=\"dataframe\">\n",
       "  <thead>\n",
       "    <tr style=\"text-align: right;\">\n",
       "      <th></th>\n",
       "      <th>Poblacion</th>\n",
       "    </tr>\n",
       "    <tr>\n",
       "      <th>Provincia</th>\n",
       "      <th></th>\n",
       "    </tr>\n",
       "  </thead>\n",
       "  <tbody>\n",
       "    <tr>\n",
       "      <th>Barcelona</th>\n",
       "      <td>4934795.0</td>\n",
       "    </tr>\n",
       "    <tr>\n",
       "      <th>Madrid</th>\n",
       "      <td>6315312.0</td>\n",
       "    </tr>\n",
       "  </tbody>\n",
       "</table>\n",
       "</div>"
      ],
      "text/plain": [
       "           Poblacion\n",
       "Provincia           \n",
       "Barcelona  4934795.0\n",
       "Madrid     6315312.0"
      ]
     },
     "execution_count": 74,
     "metadata": {},
     "output_type": "execute_result"
    }
   ],
   "source": [
    "##Obtener las ultimas dos ciudades, seran las mas pobladas\n",
    "orden_ciudad.tail(2)"
   ]
  },
  {
   "attachments": {},
   "cell_type": "markdown",
   "metadata": {},
   "source": [
    "###### **Respuesta:** Barcelona"
   ]
  },
  {
   "attachments": {},
   "cell_type": "markdown",
   "metadata": {},
   "source": [
    "##### b)¿Qué posición ocupa Granada en el ranking de las ciudades más pobladas?"
   ]
  },
  {
   "cell_type": "code",
   "execution_count": 76,
   "metadata": {},
   "outputs": [
    {
     "data": {
      "text/html": [
       "<div>\n",
       "<style scoped>\n",
       "    .dataframe tbody tr th:only-of-type {\n",
       "        vertical-align: middle;\n",
       "    }\n",
       "\n",
       "    .dataframe tbody tr th {\n",
       "        vertical-align: top;\n",
       "    }\n",
       "\n",
       "    .dataframe thead th {\n",
       "        text-align: right;\n",
       "    }\n",
       "</style>\n",
       "<table border=\"1\" class=\"dataframe\">\n",
       "  <thead>\n",
       "    <tr style=\"text-align: right;\">\n",
       "      <th></th>\n",
       "      <th>Poblacion</th>\n",
       "      <th>Ranking</th>\n",
       "    </tr>\n",
       "    <tr>\n",
       "      <th>Provincia</th>\n",
       "      <th></th>\n",
       "      <th></th>\n",
       "    </tr>\n",
       "  </thead>\n",
       "  <tbody>\n",
       "    <tr>\n",
       "      <th>Granada</th>\n",
       "      <td>604357.0</td>\n",
       "      <td>36</td>\n",
       "    </tr>\n",
       "  </tbody>\n",
       "</table>\n",
       "</div>"
      ],
      "text/plain": [
       "           Poblacion  Ranking\n",
       "Provincia                    \n",
       "Granada     604357.0       36"
      ]
     },
     "execution_count": 76,
     "metadata": {},
     "output_type": "execute_result"
    }
   ],
   "source": [
    "##Agregar columna con Ranking\n",
    "orden_ciudad['Ranking']=(np.arange(1,53,1))\n",
    "##Buscar Granada\n",
    "orden_ciudad.loc[['Granada'],:]\n",
    "\n"
   ]
  },
  {
   "attachments": {},
   "cell_type": "markdown",
   "metadata": {},
   "source": [
    "#### 3)¿Cuántos municipios de Malaga tienen más de 50000 habitantes?"
   ]
  },
  {
   "cell_type": "code",
   "execution_count": 1,
   "metadata": {},
   "outputs": [
    {
     "ename": "NameError",
     "evalue": "name 'dataset' is not defined",
     "output_type": "error",
     "traceback": [
      "\u001b[1;31m---------------------------------------------------------------------------\u001b[0m",
      "\u001b[1;31mNameError\u001b[0m                                 Traceback (most recent call last)",
      "Cell \u001b[1;32mIn[1], line 2\u001b[0m\n\u001b[0;32m      1\u001b[0m \u001b[39m##Agrupar por Municipio y provincia, y sumar la poblacion\u001b[39;00m\n\u001b[1;32m----> 2\u001b[0m pob_ciudad_muni\u001b[39m=\u001b[39mdataset\u001b[39m.\u001b[39mgroupby([\u001b[39m'\u001b[39m\u001b[39mProvincia\u001b[39m\u001b[39m'\u001b[39m,\u001b[39m'\u001b[39m\u001b[39mMunicipio\u001b[39m\u001b[39m'\u001b[39m])\u001b[39m.\u001b[39magg(suma_pob\u001b[39m=\u001b[39m(\u001b[39m'\u001b[39m\u001b[39mPoblacion\u001b[39m\u001b[39m'\u001b[39m,np\u001b[39m.\u001b[39msum))\n\u001b[0;32m      4\u001b[0m \u001b[39m##Filtrar la ciudad que se necesita\u001b[39;00m\n\u001b[0;32m      5\u001b[0m provincia_poblacion\u001b[39m=\u001b[39mpob_ciudad_muni\u001b[39m.\u001b[39mloc[[\u001b[39m'\u001b[39m\u001b[39mMalaga\u001b[39m\u001b[39m'\u001b[39m],:]\n",
      "\u001b[1;31mNameError\u001b[0m: name 'dataset' is not defined"
     ]
    }
   ],
   "source": [
    "##Agrupar por Municipio y provincia, y sumar la poblacion\n",
    "pob_ciudad_muni=dataset.groupby(['Provincia','Municipio']).agg(suma_pob=('Poblacion',np.sum))\n",
    "\n",
    "##Filtrar la ciudad que se necesita\n",
    "provincia_poblacion=pob_ciudad_muni.loc[['Malaga'],:]\n",
    "##Filtrar por mayores a 5000\n",
    "filtro=provincia_poblacion[provincia_poblacion['suma_pob']>50000]\n",
    "##Contar los valores\n",
    "filtro.count()"
   ]
  }
 ],
 "metadata": {
  "kernelspec": {
   "display_name": "PythonClass",
   "language": "python",
   "name": "python3"
  },
  "language_info": {
   "codemirror_mode": {
    "name": "ipython",
    "version": 3
   },
   "file_extension": ".py",
   "mimetype": "text/x-python",
   "name": "python",
   "nbconvert_exporter": "python",
   "pygments_lexer": "ipython3",
   "version": "3.8.16"
  },
  "orig_nbformat": 4
 },
 "nbformat": 4,
 "nbformat_minor": 2
}
