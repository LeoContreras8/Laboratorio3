{
 "cells": [
  {
   "attachments": {},
   "cell_type": "markdown",
   "metadata": {},
   "source": [
    "###### Maestría Inteligencia de Negocios y Análisis de Datos\n",
    "###### Curso: Ciencia de Datos en Python\n",
    "###### Alumno: 22008375- Leonel Eduardo Contreras\n",
    "###### Sección L"
   ]
  },
  {
   "attachments": {},
   "cell_type": "markdown",
   "metadata": {},
   "source": [
    "## **Laboratorio # 3 - Análisis de Datos con Python**"
   ]
  },
  {
   "cell_type": "code",
   "execution_count": 2,
   "metadata": {},
   "outputs": [],
   "source": [
    "import numpy as np\n",
    "import pandas as pd\n",
    "import matplotlib.pyplot as plt"
   ]
  },
  {
   "attachments": {},
   "cell_type": "markdown",
   "metadata": {},
   "source": [
    "### *Parte 1*"
   ]
  },
  {
   "attachments": {},
   "cell_type": "markdown",
   "metadata": {},
   "source": [
    "#### 1) ¿Cuál es el tamaño en bytes de un array de 1000 elementos de tipo booleano?"
   ]
  },
  {
   "cell_type": "code",
   "execution_count": 10,
   "metadata": {},
   "outputs": [
    {
     "name": "stdout",
     "output_type": "stream",
     "text": [
      "El tamaño en bytes del array con elementos tipo boolenao es de: 5\n"
     ]
    }
   ],
   "source": [
    "##Se crea un array tipo booleano\n",
    "booleano= np.array([True,False,False,True,True])\n",
    "##Se imprime el tamaño del array\n",
    "print(\"El tamaño en bytes del array con elementos tipo boolenao es de:\",booleano.size)\n"
   ]
  },
  {
   "attachments": {},
   "cell_type": "markdown",
   "metadata": {},
   "source": [
    "##### **Respuesta:** Se creó un array de 5 elementos tipo booleano y se saco el tamaño en bytes y dió que es 5, entonces para un arreglo de 1000 elementos el tamaño sera de 1000 bytes"
   ]
  },
  {
   "attachments": {},
   "cell_type": "markdown",
   "metadata": {},
   "source": [
    "#### 2) Cree un array cuyos elementos sean los enteros pares en [1,100] y en orden decreciente. Muestre los 10 últimos por pantalla."
   ]
  },
  {
   "cell_type": "code",
   "execution_count": 31,
   "metadata": {},
   "outputs": [
    {
     "data": {
      "text/plain": [
       "array([20, 18, 16, 14, 12, 10,  8,  6,  4,  2])"
      ]
     },
     "execution_count": 31,
     "metadata": {},
     "output_type": "execute_result"
    }
   ],
   "source": [
    "##Se crea un arreglo con los pares de 1 a 100\n",
    "pares=np.arange(2,101,2)\n",
    "##Se invierte el arreglo para que sea en orden decreciente\n",
    "invert_pares=pares[::-1]\n",
    "##Se extraen los ultimos 10 elementos\n",
    "invert_pares[-10:]"
   ]
  },
  {
   "attachments": {},
   "cell_type": "markdown",
   "metadata": {},
   "source": [
    "#### 3) Crear array y obtener subarray"
   ]
  },
  {
   "cell_type": "code",
   "execution_count": 3,
   "metadata": {},
   "outputs": [
    {
     "name": "stdout",
     "output_type": "stream",
     "text": [
      "El subarray 1 solicitado es: [0 3 7 4]\n",
      "El subarray 2 solicitado es: [[2 5]\n",
      " [8 5]]\n"
     ]
    }
   ],
   "source": [
    "##Se crea el array dado en el ejercicio\n",
    "ejercicio3= np.array([[2,4,5,6],\n",
    "                    [0,3,7,4],\n",
    "                    [8,8,5,2],\n",
    "                    [1,5,6,1]])\n",
    "\n",
    "## Se selecciona del array un subarray con los elementos 0,3,7,4\n",
    "subarray1=ejercicio3[1]\n",
    "print(\"El subarray 1 solicitado es:\",subarray1)\n",
    "\n",
    "## Se selecciona del array un subarray con los elementos 2,5 y 8,5\n",
    "subarray2=np.array([ejercicio3[0,0::2],ejercicio3[2,1:3]])\n",
    "print(\"El subarray 2 solicitado es:\",subarray2)\n",
    "\n",
    "\n"
   ]
  },
  {
   "attachments": {},
   "cell_type": "markdown",
   "metadata": {},
   "source": [
    "#### 4) Dados los arrays a = [1, 4, 2, 7] y b = [1, 3, 2, 9], obtenga la media aritmética de la diferencia (a-b)."
   ]
  },
  {
   "cell_type": "code",
   "execution_count": 78,
   "metadata": {},
   "outputs": [
    {
     "name": "stdout",
     "output_type": "stream",
     "text": [
      "La media aritmetica de a-b es:  -0.25\n"
     ]
    }
   ],
   "source": [
    "##Se definen los arrays\n",
    "a=np.array([1,4,2,7])\n",
    "b=np.array([1,3,2,9])\n",
    "\n",
    "##Se realiza la operacion\n",
    "\n",
    "print(\"La media aritmetica de a-b es: \", np.mean(a - b))\n",
    "\n",
    "\n",
    "\n"
   ]
  },
  {
   "attachments": {},
   "cell_type": "markdown",
   "metadata": {},
   "source": [
    "#### 5) Agregue al array las coordenadas (37.1, -3.6). Muestre en pantalla las dimensiones del nuevo array"
   ]
  },
  {
   "cell_type": "code",
   "execution_count": 91,
   "metadata": {},
   "outputs": [
    {
     "name": "stdout",
     "output_type": "stream",
     "text": [
      "El nuevo array es:\n",
      "[[ 1.33  4.5 ]\n",
      " [30.   10.7 ]\n",
      " [70.2   0.5 ]\n",
      " [37.1  -3.6 ]]\n",
      "La dimension es: (4, 2)\n"
     ]
    }
   ],
   "source": [
    "##Se crea el array\n",
    "array1=np.array([[1.33,4.5],\n",
    "                 [30.0,10.7],\n",
    "                 [70.2,0.5]\n",
    "                 ])\n",
    "##Se agrega las nuevas coordenadas al array original\n",
    "array2=np.append(array1,[[37.1,-3.6]],axis=0)\n",
    "\n",
    "## Se imprime el resultado\n",
    "print(\"El nuevo array es:\")\n",
    "print(array2)\n",
    "print(f\"La dimension es: {array2.shape}\")\n"
   ]
  },
  {
   "attachments": {},
   "cell_type": "markdown",
   "metadata": {},
   "source": [
    "#### 6) Copie el array del ejercicio anterior. Traspóngalo .Agregue ahora dos nuevos pares de coordenadas: (10.8,3.0) y (35.8, 12.0)."
   ]
  },
  {
   "cell_type": "code",
   "execution_count": 103,
   "metadata": {},
   "outputs": [
    {
     "name": "stdout",
     "output_type": "stream",
     "text": [
      "Array original:\n",
      "[[ 1.33  4.5 ]\n",
      " [30.   10.7 ]\n",
      " [70.2   0.5 ]]\n",
      "Dimension del Array original: (3, 2)\n",
      "---\n",
      "Array nuevo:\n",
      "[[ 1.33  4.5 ]\n",
      " [30.   10.7 ]\n",
      " [70.2   0.5 ]\n",
      " [10.8   3.  ]\n",
      " [35.8  12.  ]]\n",
      "Dimension del Array nuevo: (5, 2)\n",
      "---\n",
      "Array transpuesto:\n",
      "[[ 1.33 30.   70.2  10.8  35.8 ]\n",
      " [ 4.5  10.7   0.5   3.   12.  ]]\n",
      "Dimension del Array transpuesto: (2, 5)\n"
     ]
    }
   ],
   "source": [
    "##Se crea el array\n",
    "array_original=np.array([[1.33,4.5],\n",
    "                 [30.0,10.7],\n",
    "                 [70.2,0.5]\n",
    "                 ])\n",
    "##Se agegan nuevas coordenadas\n",
    "array_nuevo=np.append(array_original,[[10.8,3.0],[35.8,12.0]],axis=0)\n",
    "\n",
    "##Se transpone el array nuevo\n",
    "array_transpuesto=np.transpose(array_nuevo)\n",
    "\n",
    "##Se imprien los resultados\n",
    "print(\"Array original:\")\n",
    "print(array_original)\n",
    "print(\"Dimension del Array original:\",array_original.shape)\n",
    "print(\"---\")\n",
    "print(\"Array nuevo:\")\n",
    "print(array_nuevo)\n",
    "print(\"Dimension del Array nuevo:\",array_nuevo.shape)\n",
    "print(\"---\")\n",
    "print(\"Array transpuesto:\")\n",
    "print(array_transpuesto)\n",
    "print(\"Dimension del Array transpuesto:\",array_transpuesto.shape)\n",
    "\n"
   ]
  },
  {
   "attachments": {},
   "cell_type": "markdown",
   "metadata": {},
   "source": [
    "### *Parte 2*"
   ]
  },
  {
   "cell_type": "code",
   "execution_count": 3,
   "metadata": {},
   "outputs": [],
   "source": [
    "dataset=pd.read_csv('NucleosPoblacion.csv')"
   ]
  }
 ],
 "metadata": {
  "kernelspec": {
   "display_name": "PythonClass",
   "language": "python",
   "name": "python3"
  },
  "language_info": {
   "codemirror_mode": {
    "name": "ipython",
    "version": 3
   },
   "file_extension": ".py",
   "mimetype": "text/x-python",
   "name": "python",
   "nbconvert_exporter": "python",
   "pygments_lexer": "ipython3",
   "version": "3.8.16"
  },
  "orig_nbformat": 4
 },
 "nbformat": 4,
 "nbformat_minor": 2
}
